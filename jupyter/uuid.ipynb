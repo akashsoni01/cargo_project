{
 "cells": [
  {
   "cell_type": "code",
   "execution_count": 4,
   "id": "8300c66f",
   "metadata": {},
   "outputs": [],
   "source": [
    ":dep uuid = \"1.6.1\"\n",
    ":dep ulid = \"1.1.0\""
   ]
  },
  {
   "cell_type": "code",
   "execution_count": 16,
   "id": "5166432f",
   "metadata": {},
   "outputs": [
    {
     "name": "stdout",
     "output_type": "stream",
     "text": [
      "string = 01HKW8574F0GH22F643QVS4FCQ ulid = 01HKW8574F0GH22F643QVS4FCQ\n",
      "string = 01HKW8574G43DV7EYTKQCV4HN7 ulid = 01HKW8574G43DV7EYTKQCV4HN7\n"
     ]
    }
   ],
   "source": [
    "use ulid::Ulid;\n",
    "\n",
    "// Generate a ulid\n",
    "let ulid = Ulid::new();\n",
    "let ulid2 = Ulid::new();\n",
    "\n",
    "// Generate a string for a ulid\n",
    "let s = ulid.to_string();\n",
    "\n",
    "// Create from a String\n",
    "let res = Ulid::from_string(&s);\n",
    "\n",
    "println!(\"string = {:} ulid = {:}\", s, ulid);\n",
    "println!(\"string = {:} ulid = {:}\", ulid2.to_string(), ulid2);\n",
    "\n",
    "assert_eq!(ulid, res.unwrap());\n"
   ]
  },
  {
   "cell_type": "markdown",
   "id": "c70819ae",
   "metadata": {},
   "source": [
    "### uuid example "
   ]
  },
  {
   "cell_type": "code",
   "execution_count": 13,
   "id": "350e03c8",
   "metadata": {},
   "outputs": [
    {
     "name": "stdout",
     "output_type": "stream",
     "text": [
      "uuid = 67e55044-10b1-426f-9247-bb680e5fe0c8\n"
     ]
    }
   ],
   "source": [
    "use uuid::{uuid, Uuid};\n",
    "\n",
    "const ID: Uuid = uuid!(\"67e55044-10b1-426f-9247-bb680e5fe0c8\");\n",
    "\n",
    "println!(\"uuid = {:}\", ID);\n"
   ]
  },
  {
   "cell_type": "code",
   "execution_count": null,
   "id": "35f7beab",
   "metadata": {},
   "outputs": [],
   "source": []
  }
 ],
 "metadata": {
  "kernelspec": {
   "display_name": "Rust",
   "language": "rust",
   "name": "rust"
  },
  "language_info": {
   "codemirror_mode": "rust",
   "file_extension": ".rs",
   "mimetype": "text/rust",
   "name": "Rust",
   "pygment_lexer": "rust",
   "version": ""
  }
 },
 "nbformat": 4,
 "nbformat_minor": 5
}
