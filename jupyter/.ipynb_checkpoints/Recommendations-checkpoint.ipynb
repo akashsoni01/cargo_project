{
 "cells": [
  {
   "cell_type": "code",
   "execution_count": 1,
   "id": "be4bd870-ef57-4dab-861d-ab99e2adefe5",
   "metadata": {
    "tags": []
   },
   "outputs": [
    {
     "name": "stdout",
     "output_type": "stream",
     "text": [
      "hello world\n"
     ]
    }
   ],
   "source": [
    "print('hello world')"
   ]
  },
  {
   "cell_type": "code",
   "execution_count": 3,
   "id": "6cb0b0d2-cf9f-40bc-afca-c2385a9cd601",
   "metadata": {
    "tags": []
   },
   "outputs": [
    {
     "name": "stdout",
     "output_type": "stream",
     "text": [
      "Collecting polars\n",
      "  Obtaining dependency information for polars from https://files.pythonhosted.org/packages/79/57/ad461fcddfdc3993881e622134fef080eaf1dc3eb12c39c5e08e5c36c53b/polars-0.20.5-cp38-abi3-macosx_11_0_arm64.whl.metadata\n",
      "  Downloading polars-0.20.5-cp38-abi3-macosx_11_0_arm64.whl.metadata (15 kB)\n",
      "Downloading polars-0.20.5-cp38-abi3-macosx_11_0_arm64.whl (24.4 MB)\n",
      "\u001b[2K   \u001b[90m━━━━━━━━━━━━━━━━━━━━━━━━━━━━━━━━━━━━━━━━\u001b[0m \u001b[32m24.4/24.4 MB\u001b[0m \u001b[31m3.4 MB/s\u001b[0m eta \u001b[36m0:00:00\u001b[0m00:01\u001b[0m00:01\u001b[0m\n",
      "\u001b[?25hInstalling collected packages: polars\n",
      "Successfully installed polars-0.20.5\n"
     ]
    }
   ],
   "source": [
    "!pip install polars"
   ]
  },
  {
   "cell_type": "code",
   "execution_count": 4,
   "id": "61681b5e-c063-4bb3-91f4-4ef1e7df71fd",
   "metadata": {
    "tags": []
   },
   "outputs": [
    {
     "name": "stdout",
     "output_type": "stream",
     "text": [
      "shape: (3, 3)\n",
      "┌─────────┬─────────────────────┬───────┐\n",
      "│ integer ┆ date                ┆ float │\n",
      "│ ---     ┆ ---                 ┆ ---   │\n",
      "│ i64     ┆ datetime[μs]        ┆ f64   │\n",
      "╞═════════╪═════════════════════╪═══════╡\n",
      "│ 1       ┆ 2022-01-01 00:00:00 ┆ 4.0   │\n",
      "│ 2       ┆ 2022-01-02 00:00:00 ┆ 5.0   │\n",
      "│ 3       ┆ 2022-01-03 00:00:00 ┆ 6.0   │\n",
      "└─────────┴─────────────────────┴───────┘\n"
     ]
    }
   ],
   "source": [
    "import polars as pl\n",
    "from datetime import datetime\n",
    "\n",
    "df = pl.DataFrame(\n",
    "    {\n",
    "        \"integer\": [1, 2, 3],\n",
    "        \"date\": [\n",
    "            datetime(2022, 1, 1),\n",
    "            datetime(2022, 1, 2),\n",
    "            datetime(2022, 1, 3),\n",
    "        ],\n",
    "        \"float\": [4.0, 5.0, 6.0],\n",
    "    }\n",
    ")\n",
    "\n",
    "print(df)\n"
   ]
  },
  {
   "cell_type": "code",
   "execution_count": 5,
   "id": "496ca846-5677-4dc5-897d-43e1517763c6",
   "metadata": {
    "tags": []
   },
   "outputs": [
    {
     "name": "stdout",
     "output_type": "stream",
     "text": [
      "shape: (3, 3)\n",
      "┌─────────┬────────────────────────────┬───────┐\n",
      "│ integer ┆ date                       ┆ float │\n",
      "│ ---     ┆ ---                        ┆ ---   │\n",
      "│ i64     ┆ str                        ┆ f64   │\n",
      "╞═════════╪════════════════════════════╪═══════╡\n",
      "│ 1       ┆ 2022-01-01T00:00:00.000000 ┆ 4.0   │\n",
      "│ 2       ┆ 2022-01-02T00:00:00.000000 ┆ 5.0   │\n",
      "│ 3       ┆ 2022-01-03T00:00:00.000000 ┆ 6.0   │\n",
      "└─────────┴────────────────────────────┴───────┘\n"
     ]
    }
   ],
   "source": [
    "df.write_csv(\"docs/data/output.csv\")\n",
    "df_csv = pl.read_csv(\"docs/data/output.csv\")\n",
    "print(df_csv)\n"
   ]
  },
  {
   "cell_type": "code",
   "execution_count": 6,
   "id": "ca71367d-aa2c-4d83-b82a-db0017c9b806",
   "metadata": {
    "tags": []
   },
   "outputs": [
    {
     "name": "stdout",
     "output_type": "stream",
     "text": [
      "shape: (3, 3)\n",
      "┌─────────┬─────────────────────┬───────┐\n",
      "│ integer ┆ date                ┆ float │\n",
      "│ ---     ┆ ---                 ┆ ---   │\n",
      "│ i64     ┆ datetime[μs]        ┆ f64   │\n",
      "╞═════════╪═════════════════════╪═══════╡\n",
      "│ 1       ┆ 2022-01-01 00:00:00 ┆ 4.0   │\n",
      "│ 2       ┆ 2022-01-02 00:00:00 ┆ 5.0   │\n",
      "│ 3       ┆ 2022-01-03 00:00:00 ┆ 6.0   │\n",
      "└─────────┴─────────────────────┴───────┘\n"
     ]
    }
   ],
   "source": [
    "df_csv = pl.read_csv(\"docs/data/output.csv\", try_parse_dates=True)\n",
    "print(df_csv)"
   ]
  },
  {
   "cell_type": "code",
   "execution_count": 8,
   "id": "8005b2d8-ba16-4df6-9c04-81910b5c1466",
   "metadata": {
    "tags": []
   },
   "outputs": [
    {
     "name": "stdout",
     "output_type": "stream",
     "text": [
      "shape: (3, 3)\n",
      "┌─────────┬─────────────────────┬───────┐\n",
      "│ integer ┆ date                ┆ float │\n",
      "│ ---     ┆ ---                 ┆ ---   │\n",
      "│ i64     ┆ datetime[μs]        ┆ f64   │\n",
      "╞═════════╪═════════════════════╪═══════╡\n",
      "│ 1       ┆ 2022-01-01 00:00:00 ┆ 4.0   │\n",
      "│ 2       ┆ 2022-01-02 00:00:00 ┆ 5.0   │\n",
      "│ 3       ┆ 2022-01-03 00:00:00 ┆ 6.0   │\n",
      "└─────────┴─────────────────────┴───────┘\n"
     ]
    }
   ],
   "source": [
    "df.write_json(\"docs/data/output.json\")\n",
    "df_json = pl.read_json(\"docs/data/output.json\")\n",
    "print(df_json)"
   ]
  },
  {
   "cell_type": "code",
   "execution_count": 9,
   "id": "35bb3907-14cc-41ac-938f-e5833b27000b",
   "metadata": {
    "tags": []
   },
   "outputs": [
    {
     "name": "stdout",
     "output_type": "stream",
     "text": [
      "shape: (3, 3)\n",
      "┌─────────┬─────────────────────┬───────┐\n",
      "│ integer ┆ date                ┆ float │\n",
      "│ ---     ┆ ---                 ┆ ---   │\n",
      "│ i64     ┆ datetime[μs]        ┆ f64   │\n",
      "╞═════════╪═════════════════════╪═══════╡\n",
      "│ 1       ┆ 2022-01-01 00:00:00 ┆ 4.0   │\n",
      "│ 2       ┆ 2022-01-02 00:00:00 ┆ 5.0   │\n",
      "│ 3       ┆ 2022-01-03 00:00:00 ┆ 6.0   │\n",
      "└─────────┴─────────────────────┴───────┘\n"
     ]
    }
   ],
   "source": [
    "df.write_parquet(\"docs/data/output.parquet\")\n",
    "df_parquet = pl.read_parquet(\"docs/data/output.parquet\")\n",
    "print(df_parquet)\n"
   ]
  },
  {
   "cell_type": "code",
   "execution_count": 13,
   "id": "7434f9da-c8fa-4477-8e83-5f78bb5f4b0e",
   "metadata": {
    "tags": []
   },
   "outputs": [
    {
     "name": "stdout",
     "output_type": "stream",
     "text": [
      "shape: (7_824_481, 4)\n",
      "┌────────────────┬────────────┬─────┬────────────┐\n",
      "│ AKM1MP6P0OYPR  ┆ 0132793040 ┆ 5.0 ┆ 1365811200 │\n",
      "│ ---            ┆ ---        ┆ --- ┆ ---        │\n",
      "│ str            ┆ str        ┆ f64 ┆ i64        │\n",
      "╞════════════════╪════════════╪═════╪════════════╡\n",
      "│ A2CX7LUOHB2NDG ┆ 0321732944 ┆ 5.0 ┆ 1341100800 │\n",
      "│ A2NWSAGRHCP8N5 ┆ 0439886341 ┆ 1.0 ┆ 1367193600 │\n",
      "│ A2WNBOD3WNDNKT ┆ 0439886341 ┆ 3.0 ┆ 1374451200 │\n",
      "│ A1GI0U4ZRJA8WN ┆ 0439886341 ┆ 1.0 ┆ 1334707200 │\n",
      "│ A1QGNMC6O1VW39 ┆ 0511189877 ┆ 5.0 ┆ 1397433600 │\n",
      "│ …              ┆ …          ┆ …   ┆ …          │\n",
      "│ A2YZI3C9MOHC0L ┆ BT008UKTMW ┆ 5.0 ┆ 1396569600 │\n",
      "│ A322MDK0M89RHN ┆ BT008UKTMW ┆ 5.0 ┆ 1313366400 │\n",
      "│ A1MH90R0ADMIK0 ┆ BT008UKTMW ┆ 4.0 ┆ 1404172800 │\n",
      "│ A10M2KEFPEQDHN ┆ BT008UKTMW ┆ 4.0 ┆ 1297555200 │\n",
      "│ A2G81TMIOIDEQQ ┆ BT008V9J9U ┆ 5.0 ┆ 1312675200 │\n",
      "└────────────────┴────────────┴─────┴────────────┘\n"
     ]
    }
   ],
   "source": [
    "df_csv = pl.read_csv(\"docs/data/electronics.csv\")\n",
    "print(df_csv)\n"
   ]
  },
  {
   "cell_type": "markdown",
   "id": "3736c811-b7d0-4293-ad5e-018dc65038fd",
   "metadata": {},
   "source": []
  },
  {
   "cell_type": "code",
   "execution_count": 23,
   "id": "799e8fb3-31cf-4b57-ae53-1afe3f629c7b",
   "metadata": {
    "tags": []
   },
   "outputs": [
    {
     "ename": "AttributeError",
     "evalue": "'DataFrame' object has no attribute 'loc'",
     "output_type": "error",
     "traceback": [
      "\u001b[0;31m---------------------------------------------------------------------------\u001b[0m",
      "\u001b[0;31mAttributeError\u001b[0m                            Traceback (most recent call last)",
      "Cell \u001b[0;32mIn[23], line 1\u001b[0m\n\u001b[0;32m----> 1\u001b[0m df_csv\u001b[38;5;241m.\u001b[39mloc[:,\u001b[38;5;124m'\u001b[39m\u001b[38;5;124mAKM1MP6P0OYPR\u001b[39m\u001b[38;5;124m'\u001b[39m]\n",
      "\u001b[0;31mAttributeError\u001b[0m: 'DataFrame' object has no attribute 'loc'"
     ]
    }
   ],
   "source": [
    "df_csv.loc[:1048576,0:]\n"
   ]
  },
  {
   "cell_type": "code",
   "execution_count": 22,
   "id": "f4937021-5817-4c98-ac53-80ad720c0688",
   "metadata": {
    "tags": []
   },
   "outputs": [
    {
     "ename": "TypeError",
     "evalue": "'tuple' object is not callable",
     "output_type": "error",
     "traceback": [
      "\u001b[0;31m---------------------------------------------------------------------------\u001b[0m",
      "\u001b[0;31mTypeError\u001b[0m                                 Traceback (most recent call last)",
      "Cell \u001b[0;32mIn[22], line 1\u001b[0m\n\u001b[0;32m----> 1\u001b[0m df_csv\u001b[38;5;241m.\u001b[39mshape()\n",
      "\u001b[0;31mTypeError\u001b[0m: 'tuple' object is not callable"
     ]
    }
   ],
   "source": []
  },
  {
   "cell_type": "code",
   "execution_count": 21,
   "id": "baf2d103-3abb-4785-83e9-a7199259d1d5",
   "metadata": {
    "tags": []
   },
   "outputs": [
    {
     "ename": "AttributeError",
     "evalue": "module 'polars' has no attribute 'row'",
     "output_type": "error",
     "traceback": [
      "\u001b[0;31m---------------------------------------------------------------------------\u001b[0m",
      "\u001b[0;31mAttributeError\u001b[0m                            Traceback (most recent call last)",
      "Cell \u001b[0;32mIn[21], line 1\u001b[0m\n\u001b[0;32m----> 1\u001b[0m df_csv\u001b[38;5;241m.\u001b[39mselect(pl\u001b[38;5;241m.\u001b[39mrow(\u001b[38;5;124m\"\u001b[39m\u001b[38;5;124m*\u001b[39m\u001b[38;5;124m\"\u001b[39m))\n",
      "\u001b[0;31mAttributeError\u001b[0m: module 'polars' has no attribute 'row'"
     ]
    }
   ],
   "source": []
  },
  {
   "cell_type": "code",
   "execution_count": null,
   "id": "93832b9b-83a7-46eb-aa0c-1d9c7b76b13d",
   "metadata": {},
   "outputs": [],
   "source": []
  }
 ],
 "metadata": {
  "kernelspec": {
   "display_name": "Python 3 (ipykernel)",
   "language": "python",
   "name": "python3"
  },
  "language_info": {
   "codemirror_mode": {
    "name": "ipython",
    "version": 3
   },
   "file_extension": ".py",
   "mimetype": "text/x-python",
   "name": "python",
   "nbconvert_exporter": "python",
   "pygments_lexer": "ipython3",
   "version": "3.11.5"
  }
 },
 "nbformat": 4,
 "nbformat_minor": 5
}
