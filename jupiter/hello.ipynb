{
 "cells": [
  {
   "cell_type": "code",
   "execution_count": 10,
   "id": "25963c6e9418ade8",
   "metadata": {
    "ExecuteTime": {
     "end_time": "2024-01-09T15:01:58.435894Z",
     "start_time": "2024-01-09T15:01:56.886860Z"
    }
   },
   "outputs": [
    {
     "name": "stdout",
     "output_type": "stream",
     "text": [
      " of 9 is\n"
     ]
    }
   ],
   "source": [
    "println!(\" of 9 is\");"
   ]
  },
  {
   "cell_type": "markdown",
   "id": "6093a7bb-58c6-4082-af03-817592392f1f",
   "metadata": {},
   "source": []
  },
  {
   "cell_type": "code",
   "execution_count": 13,
   "id": "1912f57c",
   "metadata": {
    "is_executing": true
   },
   "outputs": [
   ],
   "source": [
    ":dep polars = \"0.36.2\"\n",
    ":dep chrono = {version = \"0.4.26\", default-features = false, features = [\"clock\", \"serde\"]}\n"
   ]
  },
  {
   "cell_type": "code",
   "execution_count": 8,
   "id": "f7607639-3ebe-43b6-bf15-b925ed35cdd6",
   "metadata": {},
   "outputs": [],
   "source": []
  },
  {
   "cell_type": "markdown",
   "id": "a40d4b31",
   "metadata": {},
   "source": [
    "### Creating a linear 1d series"
   ]
  },
  {
   "cell_type": "code",
   "execution_count": 12,
   "id": "4e510c3d-177d-4a14-baa6-62eae0119104",
   "metadata": {},
   "outputs": [
    {
     "name": "stdout",
     "output_type": "stream",
     "text": [
      "series1: shape: (3,)\n",
      "Series: '' [i32]\n",
      "[\n",
      "\t1\n",
      "\t2\n",
      "\t3\n",
      "]\n"
     ]
    }
   ],
   "source": [
    "let series1: Series = [1, 2, 3].iter().collect();\n",
    "// or\n",
    "// let series1: Series = Series::new(\"\", &[1, 2, 3]);\n",
    "println!(\"series1: {:}\", series1);"
   ]
  },
  {
   "cell_type": "code",
   "execution_count": null,
   "id": "59b6e7ff-e047-41ec-b1f2-a8c0c59264ca",
   "metadata": {},
   "outputs": [],
   "source": []
  }
 ],
 "metadata": {
  "kernelspec": {
   "display_name": "Rust",
   "language": "rust",
   "name": "rust"
  },
  "language_info": {
   "codemirror_mode": "rust",
   "file_extension": ".rs",
   "mimetype": "text/rust",
   "name": "Rust",
   "pygment_lexer": "rust",
   "version": ""
  }
 },
 "nbformat": 4,
 "nbformat_minor": 5
}
