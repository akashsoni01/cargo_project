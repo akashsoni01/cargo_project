{
 "cells": [
  {
   "cell_type": "markdown",
   "id": "ed30b9e2",
   "metadata": {},
   "source": [
    "# Polars "
   ]
  },
  {
   "cell_type": "markdown",
   "id": "9f8c5aad",
   "metadata": {},
   "source": [
    "#### Add dependency for polars"
   ]
  },
  {
   "cell_type": "code",
   "execution_count": null,
   "id": "5173228b",
   "metadata": {},
   "outputs": [],
   "source": [
    ":dep polars = { version = \"0.36.2\", features = [\"lazy\", \"temporal\", \"describe\", \"json\", \"parquet\", \"dtype-datetime\"] }"
   ]
  },
  {
   "cell_type": "markdown",
   "id": "6419cb54",
   "metadata": {},
   "source": [
    "#### import the package "
   ]
  },
  {
   "cell_type": "code",
   "execution_count": 7,
   "id": "8b0003ae",
   "metadata": {},
   "outputs": [],
   "source": [
    "use polars::prelude::*;"
   ]
  },
  {
   "cell_type": "markdown",
   "id": "95ea65c5",
   "metadata": {},
   "source": [
    "### Start"
   ]
  },
  {
   "cell_type": "code",
   "execution_count": null,
   "id": "c4c38068",
   "metadata": {},
   "outputs": [],
   "source": []
  }
 ],
 "metadata": {
  "kernelspec": {
   "display_name": "Rust",
   "language": "rust",
   "name": "rust"
  },
  "language_info": {
   "codemirror_mode": "rust",
   "file_extension": ".rs",
   "mimetype": "text/rust",
   "name": "Rust",
   "pygment_lexer": "rust",
   "version": ""
  }
 },
 "nbformat": 4,
 "nbformat_minor": 5
}
