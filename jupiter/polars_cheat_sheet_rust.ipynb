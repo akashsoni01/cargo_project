{
 "cells": [
  {
   "cell_type": "markdown",
   "id": "24dff482",
   "metadata": {},
   "source": [
    "# Polars "
   ]
  },
  {
   "cell_type": "markdown",
   "id": "af41b865",
   "metadata": {},
   "source": [
    "#### Add dependency for polars"
   ]
  },
  {
   "cell_type": "code",
   "execution_count": 10,
   "id": "ee53aa68",
   "metadata": {},
   "outputs": [],
   "source": [
    ":dep polars = { version = \"0.36.2\", features = [\"lazy\", \"temporal\", \"describe\", \"json\", \"parquet\", \"dtype-datetime\"] }"
   ]
  },
  {
   "cell_type": "markdown",
   "id": "8077356f",
   "metadata": {},
   "source": [
    "#### import the package "
   ]
  },
  {
   "cell_type": "code",
   "execution_count": 7,
   "id": "eb1a58f1",
   "metadata": {},
   "outputs": [],
   "source": [
    "use polars::prelude::*;"
   ]
  },
  {
   "cell_type": "markdown",
   "id": "3492c334",
   "metadata": {},
   "source": [
    "### Start"
   ]
  },
  {
   "cell_type": "code",
   "execution_count": null,
   "id": "75a1c07c",
   "metadata": {},
   "outputs": [],
   "source": []
  }
 ],
 "metadata": {
  "kernelspec": {
   "display_name": "Rust",
   "language": "rust",
   "name": "rust"
  },
  "language_info": {
   "codemirror_mode": "rust",
   "file_extension": ".rs",
   "mimetype": "text/rust",
   "name": "Rust",
   "pygment_lexer": "rust",
   "version": ""
  }
 },
 "nbformat": 4,
 "nbformat_minor": 5
}
