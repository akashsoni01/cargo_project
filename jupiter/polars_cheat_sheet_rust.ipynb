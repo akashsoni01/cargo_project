{
 "cells": [
  {
   "cell_type": "markdown",
   "id": "4eaf6210",
   "metadata": {},
   "source": [
    "# [Polars](https://www.pola.rs/) Rust Cheat Sheet\n",
    "\n",
    "[![Polars cheat sheet: download as PDF](https://github.com/akashsoni01/cargo_project/blob/main/jupiter/polars%20cheat%20sheet.pdf)\n",
    "\n",
    "Most examples were taken from the official [Polars user guide](https://pola-rs.github.io/polars-book/user-guide/).\n",
    "\n",
    "By Akash Soni ([Github](https://github.com/akashsoni01)), inspired by [Pandas Cheat Sheet](https://franzdiebold.github.io/polars-cheat-sheet/Polars_cheat_sheet.pdf/)."
   ]
  },
  {
   "cell_type": "markdown",
   "id": "0beebbfc",
   "metadata": {},
   "source": [
    "#### Add dependency for polars"
   ]
  },
  {
   "cell_type": "code",
   "execution_count": 12,
   "id": "6a2454df",
   "metadata": {},
   "outputs": [],
   "source": [
    ":dep polars = { version = \"0.36.2\", features = [\"lazy\", \"temporal\", \"describe\", \"json\", \"parquet\", \"dtype-datetime\"] }\n",
    ":dep chrono = \"0.4.31\""
   ]
  },
  {
   "cell_type": "markdown",
   "id": "82b8cad0",
   "metadata": {},
   "source": [
    "#### import the package "
   ]
  },
  {
   "cell_type": "code",
   "execution_count": 19,
   "id": "e9d91523",
   "metadata": {},
   "outputs": [],
   "source": [
    "use chrono::prelude::*;\n",
    "use std::fs::File;\n"
   ]
  },
  {
   "cell_type": "markdown",
   "id": "c0cfed87",
   "metadata": {},
   "source": [
    "##### Create a data frame using few ints, dates, floats "
   ]
  },
  {
   "cell_type": "code",
   "execution_count": 23,
   "id": "ea1a1ff0",
   "metadata": {},
   "outputs": [
    {
     "name": "stdout",
     "output_type": "stream",
     "text": [
      "shape: (3, 3)\n",
      "┌─────────┬─────────────────────┬───────┐\n",
      "│ integer ┆ date                ┆ float │\n",
      "│ ---     ┆ ---                 ┆ ---   │\n",
      "│ i32     ┆ datetime[ms]        ┆ f64   │\n",
      "╞═════════╪═════════════════════╪═══════╡\n",
      "│ 1       ┆ 2022-01-01 00:00:00 ┆ 4.0   │\n",
      "│ 2       ┆ 2022-01-02 00:00:00 ┆ 5.0   │\n",
      "│ 3       ┆ 2022-01-03 00:00:00 ┆ 6.0   │\n",
      "└─────────┴─────────────────────┴───────┘\n"
     ]
    }
   ],
   "source": [
    "use std::fs::File;\n",
    "\n",
    "use chrono::prelude::*;\n",
    "\n",
    "let mut df: DataFrame = df!(\n",
    "    \"integer\" => &[1, 2, 3],\n",
    "    \"date\" => &[\n",
    "            NaiveDate::from_ymd_opt(2022, 1, 1).unwrap().and_hms_opt(0, 0, 0).unwrap(),\n",
    "            NaiveDate::from_ymd_opt(2022, 1, 2).unwrap().and_hms_opt(0, 0, 0).unwrap(),\n",
    "            NaiveDate::from_ymd_opt(2022, 1, 3).unwrap().and_hms_opt(0, 0, 0).unwrap(),\n",
    "    ],\n",
    "    \"float\" => &[4.0, 5.0, 6.0]\n",
    ")\n",
    ".unwrap();\n",
    "println!(\"{}\", df);\n"
   ]
  },
  {
   "cell_type": "markdown",
   "id": "cc34544e",
   "metadata": {},
   "source": [
    "##### Reading and writing data frame to a file "
   ]
  },
  {
   "cell_type": "markdown",
   "id": "7d874bbd",
   "metadata": {},
   "source": [
    "Make sure you have already created folder directory doc/data if not create it in your project repo. "
   ]
  },
  {
   "cell_type": "markdown",
   "id": "c2e357f3",
   "metadata": {},
   "source": [
    "/*\n",
    "example in python\n",
    "\n",
    "df.write_csv(\"docs/data/output.csv\")\n",
    "df_csv = pl.read_csv(\"docs/data/output.csv\")\n",
    "print(df_csv)\n",
    "\n",
    "*/"
   ]
  },
  {
   "cell_type": "code",
   "execution_count": 24,
   "id": "75d050e2",
   "metadata": {},
   "outputs": [
    {
     "name": "stdout",
     "output_type": "stream",
     "text": [
      "shape: (3, 3)\n",
      "┌─────────┬─────────────────────────┬───────┐\n",
      "│ integer ┆ date                    ┆ float │\n",
      "│ ---     ┆ ---                     ┆ ---   │\n",
      "│ i64     ┆ str                     ┆ f64   │\n",
      "╞═════════╪═════════════════════════╪═══════╡\n",
      "│ 1       ┆ 2022-01-01T00:00:00.000 ┆ 4.0   │\n",
      "│ 2       ┆ 2022-01-02T00:00:00.000 ┆ 5.0   │\n",
      "│ 3       ┆ 2022-01-03T00:00:00.000 ┆ 6.0   │\n",
      "└─────────┴─────────────────────────┴───────┘\n"
     ]
    }
   ],
   "source": [
    "let mut file = File::create(\"docs/data/output.csv\").expect(\"could not create file\");\n",
    "CsvWriter::new(&mut file)\n",
    "    .include_header(true)\n",
    "    .with_separator(b',')\n",
    "    .finish(&mut df)?;\n",
    "\n",
    "\n",
    "let df_csv = CsvReader::from_path(\"docs/data/output.csv\")?\n",
    "    .infer_schema(None)\n",
    "    .has_header(true)\n",
    "    .finish()?;\n",
    "println!(\"{}\", df_csv);\n"
   ]
  },
  {
   "cell_type": "markdown",
   "id": "602be7db",
   "metadata": {},
   "source": [
    "We can clearly see the code .with_try_parse_dates(true) is converting data in data that is of type string to date while reading file. "
   ]
  },
  {
   "cell_type": "code",
   "execution_count": 25,
   "id": "409810e8",
   "metadata": {},
   "outputs": [
    {
     "name": "stdout",
     "output_type": "stream",
     "text": [
      "shape: (3, 3)\n",
      "┌─────────┬─────────────────────┬───────┐\n",
      "│ integer ┆ date                ┆ float │\n",
      "│ ---     ┆ ---                 ┆ ---   │\n",
      "│ i64     ┆ datetime[μs]        ┆ f64   │\n",
      "╞═════════╪═════════════════════╪═══════╡\n",
      "│ 1       ┆ 2022-01-01 00:00:00 ┆ 4.0   │\n",
      "│ 2       ┆ 2022-01-02 00:00:00 ┆ 5.0   │\n",
      "│ 3       ┆ 2022-01-03 00:00:00 ┆ 6.0   │\n",
      "└─────────┴─────────────────────┴───────┘\n"
     ]
    }
   ],
   "source": [
    "let df_csv = CsvReader::from_path(\"docs/data/output.csv\")?\n",
    "    .infer_schema(None)\n",
    "    .has_header(true)\n",
    "    .with_try_parse_dates(true)\n",
    "    .finish()?;\n",
    "println!(\"{}\", df_csv);\n"
   ]
  },
  {
   "cell_type": "markdown",
   "id": "7189c2a1",
   "metadata": {},
   "source": [
    "##### Create and Read JSON file "
   ]
  },
  {
   "cell_type": "code",
   "execution_count": 29,
   "id": "12642eeb",
   "metadata": {},
   "outputs": [
    {
     "name": "stdout",
     "output_type": "stream",
     "text": [
      "shape: (3, 3)\n",
      "┌─────────┬─────────────────────┬───────┐\n",
      "│ integer ┆ date                ┆ float │\n",
      "│ ---     ┆ ---                 ┆ ---   │\n",
      "│ i64     ┆ str                 ┆ f64   │\n",
      "╞═════════╪═════════════════════╪═══════╡\n",
      "│ 1       ┆ 2022-01-01 00:00:00 ┆ 4.0   │\n",
      "│ 2       ┆ 2022-01-02 00:00:00 ┆ 5.0   │\n",
      "│ 3       ┆ 2022-01-03 00:00:00 ┆ 6.0   │\n",
      "└─────────┴─────────────────────┴───────┘\n"
     ]
    }
   ],
   "source": [
    "let mut file = File::create(\"docs/data/output.json\").expect(\"could not create file\");\n",
    "JsonWriter::new(&mut file).finish(&mut df)?;\n",
    "let f = File::open(\"docs/data/output.json\")?;\n",
    "let df_json = JsonReader::new(f)\n",
    "    .with_json_format(JsonFormat::JsonLines)\n",
    "    .finish()?;\n",
    "println!(\"{}\", df_json);\n"
   ]
  }
 ],
 "metadata": {
  "kernelspec": {
   "display_name": "Rust",
   "language": "rust",
   "name": "rust"
  },
  "language_info": {
   "codemirror_mode": "rust",
   "file_extension": ".rs",
   "mimetype": "text/rust",
   "name": "Rust",
   "pygment_lexer": "rust",
   "version": ""
  }
 },
 "nbformat": 4,
 "nbformat_minor": 5
}
